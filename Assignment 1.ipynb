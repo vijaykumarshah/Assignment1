{
 "cells": [
  {
   "cell_type": "code",
   "execution_count": 1,
   "id": "fdc7f746",
   "metadata": {},
   "outputs": [],
   "source": [
    "#Q1. Create one variable containing following type of data:\n"
   ]
  },
  {
   "cell_type": "code",
   "execution_count": 2,
   "id": "1be09352",
   "metadata": {},
   "outputs": [],
   "source": [
    "a = \"vijayshah\",(1,2,3),22.5,[11,22,33]"
   ]
  },
  {
   "cell_type": "code",
   "execution_count": 3,
   "id": "5a67d44d",
   "metadata": {},
   "outputs": [
    {
     "data": {
      "text/plain": [
       "('vijayshah', (1, 2, 3), 22.5, [11, 22, 33])"
      ]
     },
     "execution_count": 3,
     "metadata": {},
     "output_type": "execute_result"
    }
   ],
   "source": [
    "a"
   ]
  },
  {
   "cell_type": "code",
   "execution_count": 4,
   "id": "7d987393",
   "metadata": {},
   "outputs": [],
   "source": [
    "#Q2. Given are some following variables containing data:\n",
    "\n",
    "#(i) var1 = ' '\n",
    "#(ii) var2 = '[ DS , ML , Python]'\n",
    "#(iii) var3 = [ 'DS' , 'ML' , 'Python' ]\n",
    "#(iv) var4 = 1."
   ]
  },
  {
   "cell_type": "code",
   "execution_count": 5,
   "id": "1674e2f1",
   "metadata": {},
   "outputs": [],
   "source": [
    "var1=''"
   ]
  },
  {
   "cell_type": "code",
   "execution_count": 6,
   "id": "f962e2e6",
   "metadata": {},
   "outputs": [
    {
     "data": {
      "text/plain": [
       "str"
      ]
     },
     "execution_count": 6,
     "metadata": {},
     "output_type": "execute_result"
    }
   ],
   "source": [
    "type(var1)"
   ]
  },
  {
   "cell_type": "code",
   "execution_count": 8,
   "id": "60915aee",
   "metadata": {},
   "outputs": [],
   "source": [
    "var2='[ DS , ML , Python]'\n"
   ]
  },
  {
   "cell_type": "code",
   "execution_count": 9,
   "id": "fd496b17",
   "metadata": {},
   "outputs": [
    {
     "data": {
      "text/plain": [
       "str"
      ]
     },
     "execution_count": 9,
     "metadata": {},
     "output_type": "execute_result"
    }
   ],
   "source": [
    "type(var2)"
   ]
  },
  {
   "cell_type": "code",
   "execution_count": 13,
   "id": "4339bb48",
   "metadata": {},
   "outputs": [],
   "source": [
    "var3= [ 'DS' , 'ML' , 'Python' ]"
   ]
  },
  {
   "cell_type": "code",
   "execution_count": 14,
   "id": "798f41bf",
   "metadata": {},
   "outputs": [
    {
     "data": {
      "text/plain": [
       "list"
      ]
     },
     "execution_count": 14,
     "metadata": {},
     "output_type": "execute_result"
    }
   ],
   "source": [
    "type(var3)"
   ]
  },
  {
   "cell_type": "code",
   "execution_count": 12,
   "id": "ca4e05ca",
   "metadata": {},
   "outputs": [],
   "source": [
    "var4 = 1."
   ]
  },
  {
   "cell_type": "code",
   "execution_count": 15,
   "id": "88a2e7c2",
   "metadata": {},
   "outputs": [
    {
     "data": {
      "text/plain": [
       "float"
      ]
     },
     "execution_count": 15,
     "metadata": {},
     "output_type": "execute_result"
    }
   ],
   "source": [
    "type(var4)"
   ]
  },
  {
   "cell_type": "code",
   "execution_count": 17,
   "id": "d66bb2cb",
   "metadata": {},
   "outputs": [],
   "source": [
    "#Q3. Explain the use of the following operators using an example:\n",
    "\n",
    "#(i) /\n",
    "#(ii) %\n",
    "#(iii) //\n",
    "#(iv) **"
   ]
  },
  {
   "cell_type": "code",
   "execution_count": 27,
   "id": "195b154b",
   "metadata": {},
   "outputs": [
    {
     "data": {
      "text/plain": [
       "2.5"
      ]
     },
     "execution_count": 27,
     "metadata": {},
     "output_type": "execute_result"
    }
   ],
   "source": [
    "a = 5\n",
    "b = 2\n",
    "\n",
    "a / b\n",
    "5 / 2 #this operator use for division"
   ]
  },
  {
   "cell_type": "code",
   "execution_count": 24,
   "id": "07ee8bb6",
   "metadata": {},
   "outputs": [
    {
     "data": {
      "text/plain": [
       "1"
      ]
     },
     "execution_count": 24,
     "metadata": {},
     "output_type": "execute_result"
    }
   ],
   "source": [
    "a % b\n",
    "5 % 2  #this operator returns remainder value"
   ]
  },
  {
   "cell_type": "code",
   "execution_count": 25,
   "id": "318f995a",
   "metadata": {},
   "outputs": [
    {
     "data": {
      "text/plain": [
       "2"
      ]
     },
     "execution_count": 25,
     "metadata": {},
     "output_type": "execute_result"
    }
   ],
   "source": [
    "a // b\n",
    "5 // 2 #this operator remove decimal from float value result"
   ]
  },
  {
   "cell_type": "code",
   "execution_count": 26,
   "id": "4bccfe65",
   "metadata": {},
   "outputs": [
    {
     "data": {
      "text/plain": [
       "25"
      ]
     },
     "execution_count": 26,
     "metadata": {},
     "output_type": "execute_result"
    }
   ],
   "source": [
    "a**b \n",
    "5 ** 2 #this operator use for 5 ki power 2 "
   ]
  },
  {
   "cell_type": "code",
   "execution_count": null,
   "id": "db277ece",
   "metadata": {},
   "outputs": [],
   "source": [
    "#Q4. Create a list of length 10 of your choice containing multiple types of data. Using for loop print the\n",
    "element and its data type."
   ]
  },
  {
   "cell_type": "code",
   "execution_count": 28,
   "id": "5717a9dd",
   "metadata": {},
   "outputs": [
    {
     "name": "stdout",
     "output_type": "stream",
     "text": [
      "11 <class 'int'>\n",
      "12 <class 'int'>\n",
      "13 <class 'int'>\n",
      "vijay <class 'str'>\n",
      "True <class 'bool'>\n",
      "22.5 <class 'float'>\n",
      "[1, 2, 3] <class 'list'>\n",
      "(4, 5, 6) <class 'tuple'>\n",
      "(1+2j) <class 'complex'>\n",
      "shah <class 'str'>\n"
     ]
    }
   ],
   "source": [
    "df= [11,12,13,\"vijay\", True, 22.5, [1,2,3], (4, 5, 6), 1 + 2j,\"shah\"]\n",
    "for i in df:\n",
    "    print((i),type(i))\n"
   ]
  },
  {
   "cell_type": "code",
   "execution_count": 31,
   "id": "6340a17b",
   "metadata": {},
   "outputs": [],
   "source": [
    "#Q6. Create a list containing 25 int type data. Using for loop and if-else condition print if the element is divisible by 3 or not\n",
    "     "
   ]
  },
  {
   "cell_type": "code",
   "execution_count": 34,
   "id": "76c16eeb",
   "metadata": {},
   "outputs": [
    {
     "name": "stdout",
     "output_type": "stream",
     "text": [
      "this number is divisible by 3\n",
      "this number is not divisble by 3\n",
      "this number is divisible by 3\n",
      "this number is not divisble by 3\n",
      "this number is divisible by 3\n",
      "this number is not divisble by 3\n",
      "this number is divisible by 3\n",
      "this number is not divisble by 3\n",
      "this number is divisible by 3\n",
      "this number is divisible by 3\n",
      "this number is not divisble by 3\n",
      "this number is divisible by 3\n",
      "this number is not divisble by 3\n",
      "this number is divisible by 3\n",
      "this number is divisible by 3\n",
      "this number is not divisble by 3\n",
      "this number is divisible by 3\n",
      "this number is not divisble by 3\n",
      "this number is divisible by 3\n",
      "this number is not divisble by 3\n",
      "this number is divisible by 3\n",
      "this number is not divisble by 3\n",
      "this number is divisible by 3\n",
      "this number is not divisble by 3\n",
      "this number is not divisble by 3\n"
     ]
    }
   ],
   "source": [
    "df1 = [9,10,12,13,15,17,18,20,21,24,25,27,29,30,3,31,3,32,6,35,36,38,39,40,43]\n",
    "for i in df1:\n",
    "    if i % 3 == 0:\n",
    "        print(\"this number is divisible by 3\")\n",
    "    else:\n",
    "        print(\"this number is not divisble by 3\")"
   ]
  },
  {
   "cell_type": "code",
   "execution_count": null,
   "id": "3285f478",
   "metadata": {},
   "outputs": [],
   "source": [
    "#Q7. What do you understand about mutable and immutable data types? Give examples for both showing this property"
   ]
  },
  {
   "cell_type": "code",
   "execution_count": 1,
   "id": "29f74787",
   "metadata": {},
   "outputs": [],
   "source": [
    "c= [1,2,3,4,5,6] #mutable data types are where values can be changed after they are created through index"
   ]
  },
  {
   "cell_type": "code",
   "execution_count": 2,
   "id": "88d00b21",
   "metadata": {},
   "outputs": [],
   "source": [
    "c[2] = 99"
   ]
  },
  {
   "cell_type": "code",
   "execution_count": 3,
   "id": "e8a98c12",
   "metadata": {},
   "outputs": [
    {
     "data": {
      "text/plain": [
       "[1, 2, 99, 4, 5, 6]"
      ]
     },
     "execution_count": 3,
     "metadata": {},
     "output_type": "execute_result"
    }
   ],
   "source": [
    "c #here you can see we replace the index number 2 value with 99 int so it is called mutable data type"
   ]
  },
  {
   "cell_type": "code",
   "execution_count": 4,
   "id": "d9c0624a",
   "metadata": {},
   "outputs": [],
   "source": [
    "d = (1,2,3,4,55,66,99) #tuple is immutable data type if i have to change 99 int with 11 then you cant change through index because its a tuple "
   ]
  },
  {
   "cell_type": "code",
   "execution_count": 5,
   "id": "6b57b524",
   "metadata": {},
   "outputs": [
    {
     "ename": "TypeError",
     "evalue": "'tuple' object does not support item assignment",
     "output_type": "error",
     "traceback": [
      "\u001b[1;31m---------------------------------------------------------------------------\u001b[0m",
      "\u001b[1;31mTypeError\u001b[0m                                 Traceback (most recent call last)",
      "Cell \u001b[1;32mIn[5], line 1\u001b[0m\n\u001b[1;32m----> 1\u001b[0m \u001b[43md\u001b[49m\u001b[43m[\u001b[49m\u001b[38;5;241;43m-\u001b[39;49m\u001b[38;5;241;43m1\u001b[39;49m\u001b[43m]\u001b[49m \u001b[38;5;241m=\u001b[39m \u001b[38;5;241m11\u001b[39m\n",
      "\u001b[1;31mTypeError\u001b[0m: 'tuple' object does not support item assignment"
     ]
    }
   ],
   "source": [
    "d[-1] = 11"
   ]
  },
  {
   "cell_type": "code",
   "execution_count": 8,
   "id": "7994ef03",
   "metadata": {},
   "outputs": [],
   "source": [
    "#Q5. Using a while loop, verify if the number A is purely divisible by number B and if so then how many times it can be divisible."
   ]
  },
  {
   "cell_type": "code",
   "execution_count": 24,
   "id": "ebaa33c1",
   "metadata": {},
   "outputs": [
    {
     "name": "stdout",
     "output_type": "stream",
     "text": [
      "t is divisible by t1.(count) times. \n"
     ]
    }
   ],
   "source": [
    "t = 50\n",
    "t1 = 5\n",
    "count = 0\n",
    "while t % t1 == 0:\n",
    "    t = t / t1\n",
    "    count += 1\n",
    "    \n",
    "if count > 0:\n",
    "    print(\"t is divisible by t1.(count) times. \")\n",
    "else:\n",
    "    print(\"t is not divisible by t1 \")"
   ]
  },
  {
   "cell_type": "code",
   "execution_count": 25,
   "id": "bd544bb9",
   "metadata": {},
   "outputs": [],
   "source": [
    "# i cant able to do question number 5 "
   ]
  },
  {
   "cell_type": "code",
   "execution_count": null,
   "id": "e80b1e8f",
   "metadata": {},
   "outputs": [],
   "source": []
  }
 ],
 "metadata": {
  "kernelspec": {
   "display_name": "Python 3 (ipykernel)",
   "language": "python",
   "name": "python3"
  },
  "language_info": {
   "codemirror_mode": {
    "name": "ipython",
    "version": 3
   },
   "file_extension": ".py",
   "mimetype": "text/x-python",
   "name": "python",
   "nbconvert_exporter": "python",
   "pygments_lexer": "ipython3",
   "version": "3.11.1"
  }
 },
 "nbformat": 4,
 "nbformat_minor": 5
}
